{
 "cells": [
  {
   "cell_type": "markdown",
   "metadata": {},
   "source": [
    "# MNIST with binet\n",
    "\n",
    "This example shows how to use a (fully connected) net on binet. We will train once on the CPU and once on the GPU."
   ]
  },
  {
   "cell_type": "code",
   "execution_count": 1,
   "metadata": {
    "collapsed": false
   },
   "outputs": [],
   "source": [
    "import os\n",
    "from binet import *\n",
    "from binet.util import train\n",
    "\n",
    "op.init_gpu(0)  # we are using GPU 0\n",
    "dataset = load_dataset(\"mnist\")"
   ]
  },
  {
   "cell_type": "code",
   "execution_count": 2,
   "metadata": {
    "collapsed": false
   },
   "outputs": [],
   "source": [
    "n_iter = 1000\n",
    "eta = 0.1\n",
    "n_input, n_output = dataset[0].shape[1], dataset[1].shape[1]"
   ]
  },
  {
   "cell_type": "markdown",
   "metadata": {},
   "source": [
    "# CPU"
   ]
  },
  {
   "cell_type": "code",
   "execution_count": 3,
   "metadata": {
    "collapsed": false
   },
   "outputs": [
    {
     "name": "stdout",
     "output_type": "stream",
     "text": [
      "  1:\tTrain-Error: 0.004497\tVal-Error: 0.173766\tVal-Score: 94.8200%\t(20.08s)\n",
      "  2:\tTrain-Error: 0.001936\tVal-Error: 0.128790\tVal-Score: 96.3100%\t(41.77s)\n",
      "  3:\tTrain-Error: 0.001284\tVal-Error: 0.109994\tVal-Score: 96.9300%\t(63.35s)\n",
      "  4:\tTrain-Error: 0.000911\tVal-Error: 0.100288\tVal-Score: 97.2000%\t(84.92s)\n",
      "  5:\tTrain-Error: 0.000661\tVal-Error: 0.095361\tVal-Score: 97.3900%\t(106.63s)\n",
      "  6:\tTrain-Error: 0.000482\tVal-Error: 0.092897\tVal-Score: 97.5300%\t(128.26s)\n",
      "  7:\tTrain-Error: 0.000352\tVal-Error: 0.091802\tVal-Score: 97.5800%\t(149.85s)\n",
      "  8:\tTrain-Error: 0.000260\tVal-Error: 0.091263\tVal-Score: 97.5600%\t(171.40s)\n",
      "  9:\tTrain-Error: 0.000197\tVal-Error: 0.091560\tVal-Score: 97.5500%\t(193.01s)\n",
      " 10:\tTrain-Error: 0.000151\tVal-Error: 0.091972\tVal-Score: 97.6200%\t(214.56s)\n"
     ]
    }
   ],
   "source": [
    "layers = (1024, 1024, n_output)\n",
    "net = NeuralNet(n_input, layers, max_iter=10, learning_rate=eta, verbose=True,activation=\"relu\", shuffle_data=False)\n",
    "net = train(net, dataset, use_gpu=False, skip_output=1)"
   ]
  },
  {
   "cell_type": "markdown",
   "metadata": {},
   "source": [
    "# GPU"
   ]
  },
  {
   "cell_type": "code",
   "execution_count": 4,
   "metadata": {
    "collapsed": false
   },
   "outputs": [
    {
     "name": "stdout",
     "output_type": "stream",
     "text": [
      "  1:\tTrain-Error: 0.004532\tVal-Error: 0.169644\tVal-Score: 95.1400%\t(5.35s)\n",
      "  2:\tTrain-Error: 0.001926\tVal-Error: 0.126544\tVal-Score: 96.3200%\t(9.57s)\n",
      "  3:\tTrain-Error: 0.001272\tVal-Error: 0.107361\tVal-Score: 96.9900%\t(13.52s)\n",
      "  4:\tTrain-Error: 0.000900\tVal-Error: 0.097584\tVal-Score: 97.2500%\t(17.41s)\n",
      "  5:\tTrain-Error: 0.000650\tVal-Error: 0.092212\tVal-Score: 97.4500%\t(21.31s)\n",
      "  6:\tTrain-Error: 0.000471\tVal-Error: 0.089209\tVal-Score: 97.5500%\t(25.20s)\n",
      "  7:\tTrain-Error: 0.000347\tVal-Error: 0.087421\tVal-Score: 97.6300%\t(29.03s)\n",
      "  8:\tTrain-Error: 0.000258\tVal-Error: 0.086681\tVal-Score: 97.7000%\t(32.86s)\n",
      "  9:\tTrain-Error: 0.000196\tVal-Error: 0.086864\tVal-Score: 97.7000%\t(36.77s)\n",
      " 10:\tTrain-Error: 0.000152\tVal-Error: 0.087382\tVal-Score: 97.7600%\t(40.62s)\n"
     ]
    }
   ],
   "source": [
    "layers = (1024, 1024, n_output)\n",
    "net = NeuralNet(n_input, layers, max_iter=10, learning_rate=eta, verbose=True,activation=\"relu\", shuffle_data=False)\n",
    "net = train(net, dataset, use_gpu=True, skip_output=1)"
   ]
  },
  {
   "cell_type": "code",
   "execution_count": 5,
   "metadata": {
    "collapsed": false
   },
   "outputs": [
    {
     "name": "stdout",
     "output_type": "stream",
     "text": [
      "Host:                k40: Linux-3.10.0-229.14.1.el7.x86_64-x86_64-with-centos-7.1.1503-Core\n",
      "Date:                2015-11-17 11:30:36.120148\n",
      "Python version:      3.4.3 (default, Mar  1 2015, 13:48:33) \n",
      "                     [GCC 4.8.2 20140120 (Red Hat 4.8.2-16)]\n",
      "repository version:  commit 023fd2e8053be893c438a9cbaf4f01b32caa31c3\n",
      "\n",
      "loaded modules:\n",
      "\t IPython 4.0.0\n",
      "\t binet 2015.11\n",
      "\t matplotlib 1.5.0\n",
      "\t numpy 1.10.1\n",
      "\t pandas 0.17.0\n",
      "\t scipy 0.16.0\n",
      "\t sklearn 0.17\n"
     ]
    }
   ],
   "source": [
    "import binet\n",
    "binet.print_system_information()"
   ]
  }
 ],
 "metadata": {
  "kernelspec": {
   "display_name": "Python 3",
   "language": "python",
   "name": "python3"
  },
  "language_info": {
   "codemirror_mode": {
    "name": "ipython",
    "version": 3
   },
   "file_extension": ".py",
   "mimetype": "text/x-python",
   "name": "python",
   "nbconvert_exporter": "python",
   "pygments_lexer": "ipython3",
   "version": "3.4.3"
  }
 },
 "nbformat": 4,
 "nbformat_minor": 0
}
