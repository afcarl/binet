{
 "cells": [
  {
   "cell_type": "markdown",
   "metadata": {},
   "source": [
    "# MNIST with binet\n",
    "\n",
    "This example shows how to use a (fully connected) net on binet. We will train once on the CPU and once on the GPU."
   ]
  },
  {
   "cell_type": "code",
   "execution_count": 1,
   "metadata": {
    "collapsed": false
   },
   "outputs": [],
   "source": [
    "import os\n",
    "from binet import *\n",
    "from binet.util import train\n",
    "\n",
    "op.init_gpu(0)  # we are using GPU 0\n",
    "dataset = load_dataset(\"mnist\")"
   ]
  },
  {
   "cell_type": "code",
   "execution_count": 2,
   "metadata": {
    "collapsed": false
   },
   "outputs": [],
   "source": [
    "n_iter = 1000\n",
    "eta = 0.1\n",
    "n_input, n_output = dataset[0].shape[1], dataset[1].shape[1]"
   ]
  },
  {
   "cell_type": "markdown",
   "metadata": {},
   "source": [
    "# CPU"
   ]
  },
  {
   "cell_type": "code",
   "execution_count": 3,
   "metadata": {
    "collapsed": false
   },
   "outputs": [
    {
     "name": "stdout",
     "output_type": "stream",
     "text": [
      "  1:\tTrain-Error: 0.004653\tVal-Error: 0.149599\tVal-Score: 95.5300%\t(25.56s)\n",
      "  2:\tTrain-Error: 0.002004\tVal-Error: 0.106482\tVal-Score: 96.8600%\t(52.08s)\n",
      "  3:\tTrain-Error: 0.001357\tVal-Error: 0.089198\tVal-Score: 97.3800%\t(78.94s)\n",
      "  4:\tTrain-Error: 0.000983\tVal-Error: 0.080595\tVal-Score: 97.5900%\t(105.70s)\n",
      "  5:\tTrain-Error: 0.000726\tVal-Error: 0.075545\tVal-Score: 97.7300%\t(132.42s)\n",
      "  6:\tTrain-Error: 0.000539\tVal-Error: 0.071931\tVal-Score: 97.8300%\t(159.13s)\n",
      "  7:\tTrain-Error: 0.000401\tVal-Error: 0.069586\tVal-Score: 97.8500%\t(185.83s)\n",
      "  8:\tTrain-Error: 0.000300\tVal-Error: 0.068343\tVal-Score: 97.9300%\t(212.49s)\n",
      "  9:\tTrain-Error: 0.000225\tVal-Error: 0.067295\tVal-Score: 97.9400%\t(239.14s)\n",
      " 10:\tTrain-Error: 0.000171\tVal-Error: 0.066750\tVal-Score: 98.0200%\t(265.85s)\n"
     ]
    }
   ],
   "source": [
    "layers = (n_input, 1024, 1024, n_output)\n",
    "net = NeuralNet(layers, max_iter=10, learning_rate=eta, verbose=True,activation=\"relu\", shuffle_data=False)\n",
    "net = train(net, dataset, use_gpu=False, skip_output=1)"
   ]
  },
  {
   "cell_type": "markdown",
   "metadata": {},
   "source": [
    "# GPU"
   ]
  },
  {
   "cell_type": "code",
   "execution_count": 4,
   "metadata": {
    "collapsed": false
   },
   "outputs": [
    {
     "name": "stdout",
     "output_type": "stream",
     "text": [
      "  1:\tTrain-Error: 0.004596\tVal-Error: 0.151945\tVal-Score: 95.4100%\t(4.05s)\n",
      "  2:\tTrain-Error: 0.001988\tVal-Error: 0.106387\tVal-Score: 96.9300%\t(7.01s)\n",
      "  3:\tTrain-Error: 0.001339\tVal-Error: 0.088367\tVal-Score: 97.4300%\t(9.72s)\n",
      "  4:\tTrain-Error: 0.000964\tVal-Error: 0.078605\tVal-Score: 97.5500%\t(12.46s)\n",
      "  5:\tTrain-Error: 0.000710\tVal-Error: 0.072977\tVal-Score: 97.6900%\t(15.26s)\n",
      "  6:\tTrain-Error: 0.000527\tVal-Error: 0.069362\tVal-Score: 97.8200%\t(18.00s)\n",
      "  7:\tTrain-Error: 0.000394\tVal-Error: 0.067356\tVal-Score: 97.9300%\t(20.79s)\n",
      "  8:\tTrain-Error: 0.000296\tVal-Error: 0.066010\tVal-Score: 97.9500%\t(23.52s)\n",
      "  9:\tTrain-Error: 0.000224\tVal-Error: 0.065305\tVal-Score: 97.9900%\t(26.31s)\n",
      " 10:\tTrain-Error: 0.000170\tVal-Error: 0.064758\tVal-Score: 98.0200%\t(29.05s)\n"
     ]
    }
   ],
   "source": [
    "layers = (n_input, 1024, 1024, n_output)\n",
    "net = NeuralNet(layers, max_iter=10, learning_rate=eta, verbose=True,activation=\"relu\", shuffle_data=False)\n",
    "net = train(net, dataset, use_gpu=True, skip_output=1)"
   ]
  },
  {
   "cell_type": "code",
   "execution_count": 5,
   "metadata": {
    "collapsed": false
   },
   "outputs": [
    {
     "name": "stdout",
     "output_type": "stream",
     "text": [
      "Host:                hawk: Linux-3.10.0-229.14.1.el7.x86_64-x86_64-with-centos-7.1.1503-Core\n",
      "Date:                2015-10-12 09:50:47.379662\n",
      "Python version:      3.4.3 (default, Mar  1 2015, 13:48:33) \n",
      "                     [GCC 4.8.2 20140120 (Red Hat 4.8.2-16)]\n",
      "repository version:  commit abf08963b888becba55836a9a4e413f715dced4d\n",
      "\n",
      "loaded modules:\n",
      "\t IPython 4.0.0\n",
      "\t binet 2015.10\n",
      "\t matplotlib 1.4.3\n",
      "\t numpy 1.9.2\n",
      "\t pandas 0.16.0\n",
      "\t scipy 0.16.0\n",
      "\t sklearn 0.16.1\n"
     ]
    }
   ],
   "source": [
    "import binet\n",
    "binet.print_system_information()"
   ]
  }
 ],
 "metadata": {
  "kernelspec": {
   "display_name": "Python 3",
   "language": "python",
   "name": "python3"
  },
  "language_info": {
   "codemirror_mode": {
    "name": "ipython",
    "version": 3
   },
   "file_extension": ".py",
   "mimetype": "text/x-python",
   "name": "python",
   "nbconvert_exporter": "python",
   "pygments_lexer": "ipython3",
   "version": "3.4.3"
  }
 },
 "nbformat": 4,
 "nbformat_minor": 0
}
